{
 "cells": [
  {
   "cell_type": "code",
   "execution_count": 1,
   "metadata": {},
   "outputs": [],
   "source": [
    "# Author: Nicholas A. Ondo\n",
    "# License:  MIT License"
   ]
  },
  {
   "cell_type": "markdown",
   "metadata": {},
   "source": [
    "## <b>Introduction:</b>\n",
    "\n",
    "This notebook sets up the basic utilities for exploring the probabilities within card games.  The basic question that will be explored and addressed is <b>\"Given a deck of named cards, what is the probability of drawing a list of specific cards in the opening hand?\"\n",
    "\n",
    "This will be explored in two ways:\n",
    "\n",
    "* One, by developing a Monte Carlo simulation that plays many randomized games, and then performs a statistical analysis on the runs to determine the underlying probability.  Here the basic input are two files, namely \"deck.deck\" and \"hand.hand\", alongside a global HAND_SIZE variable.  Additionally, NUM_RUNS will determine how many games are run in the Monte Carlo simulation.\n",
    "\n",
    "* Two, by directly appealing to the known probability results.  This kind of question can be easily verified in any introductory probability book to be a multi-hypregeometric distribution.  Knowing this, a small set of tools are programmed to directly analytically compute the answer.\n"
   ]
  },
  {
   "cell_type": "markdown",
   "metadata": {},
   "source": [
    "---\n",
    "## <b>Part I: Loading Game Parameters.</b>\n",
    "\n",
    "We store most of the game information in a \"deck.deck\" file, which holds the list of named cards in the deck, and a \"hand.hand\" file, which holds the list cards needed to define a \"good\" opening hand.\n",
    "\n",
    "<b>I.a: Deck Data.</b> We need to start by loading the deck (tuple of card names), and specifying the other important game parameters (e.g. HANDSIZE):"
   ]
  },
  {
   "cell_type": "code",
   "execution_count": 2,
   "metadata": {
    "collapsed": true
   },
   "outputs": [],
   "source": [
    "# loadDeck() function\n",
    "def load_deck(fileName):\n",
    "    \"\"\"load_deck loads .deck files into a list of trimmed card names.\"\"\"\n",
    "  \n",
    "    try:\n",
    "        with open(fileName + \".deck\", 'r') as f:\n",
    "            cards = f.readlines()\n",
    "            return tuple(x.strip() for x in cards)\n",
    "    except Exception as e:\n",
    "        print(f\"load_deck ERROR: Exception {e}\\n\")\n",
    "        return None\n",
    "    "
   ]
  },
  {
   "cell_type": "markdown",
   "metadata": {},
   "source": [
    "N.B. 1: A functional programming approach is being taken here, therefore I am choosing immutable underlying structures, but at this level it is not highly important.\n",
    "\n",
    "N.B. 2: An efficiency tactic might be adding a name aliasing function that shortens the names, but it would need to draw the goodcards and the deck at the same time.  This would shorten look up time, as well as protect against long search times for cards with long names.\n",
    "\n",
    "<b>I.b: Good Hand Data.</b> Load the cards that are required to make a hand \"good\" into an immutable collection."
   ]
  },
  {
   "cell_type": "code",
   "execution_count": 3,
   "metadata": {
    "collapsed": true
   },
   "outputs": [],
   "source": [
    "# load_goodHand() function\n",
    "\n",
    "def load_good_hand(fileName):\n",
    "    \"\"\"Loads the list of needed cards to define a \"good\" hand.\"\"\"\n",
    "\n",
    "    try:\n",
    "        with open(fileName + \".hand\", 'r') as f:\n",
    "            goodCards = f.readlines()\n",
    "            return tuple(x.strip() for x in goodCards) # Process the card names \n",
    "    except Exception as e:\n",
    "        print(f\"load_goodCards ERROR: Exception {e}\\n\")\n",
    "        return None\n",
    "    "
   ]
  },
  {
   "cell_type": "markdown",
   "metadata": {},
   "source": [
    "<b>I.c: Grabbing the Data.</b>  Let's grab the data from the local files with our loading functions.\n",
    "\n",
    "Note that for our starter data, we choose a simple:\n",
    "\n",
    "* A good hand counts as simply having a single card named \"Card A\".\n",
    "* There are 4 of \"Card A\" in the 52 card deck.\n",
    "* Since the other cards don't matter, they are called \"Card B\" WLOG.\n",
    "* The number of cards drawn is 6.\n",
    "\n",
    "Notice that this is isomorphic to asking, \"What's the probability to drawing a specific card (e.g. a Jack) of any suit if I picked up 6 cards off of a shufled deck?\""
   ]
  },
  {
   "cell_type": "code",
   "execution_count": 4,
   "metadata": {
    "scrolled": true
   },
   "outputs": [
    {
     "name": "stdout",
     "output_type": "stream",
     "text": [
      "The deck of 52 cards has these cards:\n",
      "Counter({'Card B': 48, 'Card A': 4})\n",
      "\n",
      "And your good hand needs these cards:\n",
      "Counter({'Card A': 1})\n"
     ]
    }
   ],
   "source": [
    "# Load in the data\n",
    "\n",
    "from pprint import pprint\n",
    "from collections import Counter\n",
    "\n",
    "DECK = load_deck(\"deck\")\n",
    "GOODHAND = load_good_hand(\"hand\")\n",
    "DECKSIZE = len(DECK)\n",
    "\n",
    "print(f\"The deck of {DECKSIZE} cards has these cards:\")\n",
    "pprint(Counter(DECK))\n",
    "print(\"\\nAnd your good hand needs these cards:\")\n",
    "pprint(Counter(GOODHAND))\n",
    "\n",
    "HANDSIZE = 6\n",
    "DECKSIZE = len(DECK)\n",
    "GRAPH_TITLE = \"Monte-Carlo Probability of Drawing {} in the Deck.\".format(\"a Single Jack\")"
   ]
  },
  {
   "cell_type": "markdown",
   "metadata": {},
   "source": [
    "---\n",
    "\n",
    "## <b>Part II: Estimates via Monte Carlo Simulations</b>\n",
    "\n",
    "Here we take the approach of coding the games behavior, and then running a large number of games to empirically determine the underlying probability for drawing a \"good\" hand.\n",
    "\n",
    "<b>II.a: Setting up automated runs for the game."
   ]
  },
  {
   "cell_type": "code",
   "execution_count": 5,
   "metadata": {
    "collapsed": true
   },
   "outputs": [],
   "source": [
    "NUM_RUNS = 1 * 10**5"
   ]
  },
  {
   "cell_type": "markdown",
   "metadata": {},
   "source": [
    "<b>II.a.I: Draw Hand From Shuffled Deck.</b>\n",
    "\n",
    "Write functionality for drawing hand.  For efficiency, we only shuffle the cards needed for a full hand, not the entire deck."
   ]
  },
  {
   "cell_type": "code",
   "execution_count": 6,
   "metadata": {
    "collapsed": true
   },
   "outputs": [],
   "source": [
    "# drawHand()\n",
    "from random import sample, randrange\n",
    "\n",
    "def drawHand(handSize, deckSize, deck):\n",
    "    \"\"\"Takes a deck and handSize and returns a re-ordered hand.\"\"\"\n",
    "    \n",
    "    shuffled_indices = set()\n",
    "    while len(shuffled_indices) < handSize:\n",
    "        shuffled_indices.add(randrange(deckSize))\n",
    "\n",
    "    return tuple(deck[i] for i in shuffled_indices)\n"
   ]
  },
  {
   "cell_type": "markdown",
   "metadata": {},
   "source": [
    "<b>II.a.II: Automating the Run of a Game.</b>\n",
    "\n",
    "Here we add in the functionality for checking if the hand we have randomly drawn is a good hand.  We return 1 and 0 so later on, we can do statistics on this data."
   ]
  },
  {
   "cell_type": "code",
   "execution_count": 7,
   "metadata": {
    "collapsed": true
   },
   "outputs": [],
   "source": [
    "# runGame()\n",
    "\n",
    "def runGame(_):\n",
    "    \"\"\"\n",
    "    checkHand sees if the handDrawn is a good hand. If it is good, it returns 1, otherwise 0.\n",
    "    \"\"\"\n",
    "    \n",
    "    handDrawn = drawHand(HANDSIZE, DECKSIZE, DECK)\n",
    "    goodHand, handDrawn = Counter(GOODHAND), Counter(handDrawn)\n",
    "    \n",
    "    for goodcard in goodHand:\n",
    "        if goodcard in handDrawn and (handDrawn[goodcard] - goodHand[goodcard] >= 0):\n",
    "            pass\n",
    "        else:\n",
    "            return 0\n",
    "    return 1\n"
   ]
  },
  {
   "cell_type": "markdown",
   "metadata": {},
   "source": [
    "<b>II.b: Run the Games.</b>\n",
    "\n",
    "Here we run the MC simulations and collect the raw data in an np.array named \"runs\"."
   ]
  },
  {
   "cell_type": "code",
   "execution_count": 8,
   "metadata": {},
   "outputs": [
    {
     "name": "stdout",
     "output_type": "stream",
     "text": [
      "Data generation of 100000 runs took 1.8893 seconds.\n"
     ]
    }
   ],
   "source": [
    "# Setup runs\n",
    "from time import time\n",
    "import numpy as np\n",
    "\n",
    "runs = np.arange(NUM_RUNS)\n",
    "\n",
    "# Perform and time runs\n",
    "t_begin = time()\n",
    "runs = np.array(list(map(runGame, runs)))\n",
    "t_end = time()\n",
    "\n",
    "print(f'Data generation of {len(runs)} runs took {(t_end - t_begin):.4f} seconds.')"
   ]
  },
  {
   "cell_type": "markdown",
   "metadata": {},
   "source": [
    "\n",
    "---\n",
    "## Part III: Analytic Estimates\n",
    "\n",
    "Here we will generate an analytic estimate (exact probability) by applying a multi-hypergeometric distrubtion to get the answer.\n",
    "\n",
    "This will then be used to look at statistical parameters in Part IV.\n",
    "\n",
    "<b>III.a.I: Multi-Hypergeometric PMF</b>\n",
    "\n",
    "Here I define some useful utility functions related to multi-hypergeometric probabilities."
   ]
  },
  {
   "cell_type": "code",
   "execution_count": 9,
   "metadata": {},
   "outputs": [],
   "source": [
    "from scipy.misc import comb as choose\n",
    "\n",
    "def multi_hyperg_pmf(N, Klist, n, klist):\n",
    "    \"\"\"\n",
    "    Multi-hypergeometric prob of drawing at least (k_i) number of cards.\n",
    "    -- N is the num cards in the deck.\n",
    "    -- Klist is the list of each desired cards in the deck.\n",
    "    -- n is the hand size.\n",
    "    -- Klist is the list of the exact number of each kind\n",
    "       of desired cards in the hand.\n",
    "    Returns the probability of acquiring such a hand.\n",
    "    \"\"\" \n",
    "    prob = 1 / choose(N, n)\n",
    "    for K, k in zip(Klist, klist):\n",
    "        prob *= choose(K, k)\n",
    "    \n",
    "    # prob of what's left over \n",
    "    prob *= choose(N - sum(Klist), n - sum(klist))\n",
    "    \n",
    "    return prob\n",
    "\n",
    "\n",
    "def theory1_prob(N, Klist, n, klist):\n",
    "    \"\"\"\n",
    "    Uses the PMF to compute each individual win condition,\n",
    "    then sums over all winning combinations to get the total probability.\n",
    "    \"\"\"\n",
    "    \n",
    "    if Klist is None or klist is None or Klist == list() or klist == list():\n",
    "        raise TypeError(\"Klist and klist must not be None or empty.\")\n",
    "    prob = 0\n",
    "    for comb in win_combs(Klist, klist, n):\n",
    "        prob += multi_hyperg_pmf(N, Klist, n, comb)\n",
    "    \n",
    "    return prob"
   ]
  },
  {
   "cell_type": "markdown",
   "metadata": {},
   "source": [
    "Since we are summing over complex win conditions, it is helpful to write a custom generator that contains this logic and yields the individual win cases. i.e."
   ]
  },
  {
   "cell_type": "code",
   "execution_count": 10,
   "metadata": {},
   "outputs": [],
   "source": [
    "from itertools import product\n",
    "\n",
    "\n",
    "def win_combs(cards_indeck, cards_needed, hand_size):\n",
    "    \"\"\"\n",
    "    Generator for the winning combinations.\n",
    "    Returns comb, a list of integers such that\n",
    "    -- The sum(comb) <= hand_size.\n",
    "    -- For each i, Klist[i] >= comb[i] >= klist[i].\n",
    "    \"\"\"\n",
    "    \n",
    "    all_combs = list()\n",
    "    for i, numcards in enumerate(cards_needed):\n",
    "        all_combs += [\n",
    "            list(range(numcards, 1 + min(hand_size, cards_indeck[i])))]\n",
    "    \n",
    "    for comb in product(*all_combs):\n",
    "        if sum(comb) <= hand_size:\n",
    "            yield list(comb)"
   ]
  },
  {
   "cell_type": "markdown",
   "metadata": {},
   "source": [
    "N.B. The previous method is an inferior way of generating the winning hand combinations for large, complex hands. Since we have still technically won if we get more cards than just the required number, we have many additional combinations of hands that count as \"winning\" hands. It is inferior because we generate, in principle, many more hands than are needed, for large combinations of needed hands and larger hand sizes, the combinatorics of the extraneous non-winning hands are created through the Cartesian product (itertools.product) will be large. Therefore, if this code needed to be scaled, a custom implementation of the Cartesian product would be needed, or an alternative approach entirely (e.g. the probability tree method.)\n",
    "\n",
    "<b>III.a.II: Generating Data needed for Analytic Estimate</b>\n",
    "\n",
    "Now we use generate the inputs for these utilities from our underlying game parameters.  Recall that:\n",
    "\n",
    "* N is the num cards in the deck.\n",
    "* Klist is the list of each desired cards in the deck.\n",
    "* n is the hand size.\n",
    "* Klist is the list of the exact number of each kind of desired cards in the hand."
   ]
  },
  {
   "cell_type": "code",
   "execution_count": 11,
   "metadata": {},
   "outputs": [
    {
     "name": "stdout",
     "output_type": "stream",
     "text": [
      "'Number each type of card in a good hand: (1,).'\n",
      "'Number of each type of good card in the deck: [4].'\n"
     ]
    }
   ],
   "source": [
    "# Generate this data from DECK, GOODHAND, and HANDSIZE:\n",
    "goodhand_bin = Counter(GOODHAND)\n",
    "deck_bin = Counter(DECK)\n",
    "\n",
    "numcardtypes_hand = tuple(goodhand_bin[name] for name in goodhand_bin)\n",
    "pprint(f\"Number each type of card in a good hand: {numcardtypes_hand}.\")\n",
    "\n",
    "numcardtypes_deck = list()\n",
    "for cardname in goodhand_bin:\n",
    "    if cardname in deck_bin:\n",
    "        numcardtypes_deck.append(deck_bin[cardname])\n",
    "    else:\n",
    "        raise ValueError(\"There are cards in the hand that don't exist in deck. Check files.\")\n",
    "\n",
    "pprint(f\"Number of each type of good card in the deck: {numcardtypes_deck}.\")"
   ]
  },
  {
   "cell_type": "markdown",
   "metadata": {},
   "source": [
    "<b>III.a.III: The Analytic Estimate</b>\n",
    "\n",
    "Now we finally compute the first analytic result."
   ]
  },
  {
   "cell_type": "code",
   "execution_count": 12,
   "metadata": {},
   "outputs": [
    {
     "name": "stdout",
     "output_type": "stream",
     "text": [
      "The exact probability is 0.3972296610952073.\n"
     ]
    }
   ],
   "source": [
    "analytic_prob = theory1_prob(DECKSIZE, numcardtypes_deck, HANDSIZE, numcardtypes_hand)\n",
    "\n",
    "print(f\"The exact probability is {analytic_prob}.\")"
   ]
  },
  {
   "cell_type": "markdown",
   "metadata": {},
   "source": [
    "---\n",
    "\n",
    "## <b>Part IV: Statistical Analysis</b>\n",
    "\n",
    "<b>IV.a: Define Point Statistics.</b> Define the point statistics, here using the standard Monte Carlo simulation method, i.e. the average of point distributions converges to the underlying probability, and then comparing this to the exact probability."
   ]
  },
  {
   "cell_type": "code",
   "execution_count": 13,
   "metadata": {
    "collapsed": true
   },
   "outputs": [],
   "source": [
    "# Point Distrubtion statistics\n",
    "\n",
    "def game_probs(runs):\n",
    "    \"\"\"\n",
    "    game_probs: Homebrew empirical mass function, i.e. directly average over\n",
    "    the given 0 or 1 conditions of the runs.\n",
    "    -- Returns running array of probabilities.\n",
    "    \"\"\"\n",
    "    \n",
    "    stepwise_prob = []\n",
    "    accum = 0\n",
    "    \n",
    "    for i in range(len(runs)):\n",
    "        accum += runs[i]        \n",
    "        running_avg = accum / (i + 1.0)\n",
    "        stepwise_prob.append(running_avg)\n",
    "        \n",
    "    return stepwise_prob\n",
    "\n",
    "def game_stats(runs, probs, indices):\n",
    "    \"\"\"\n",
    "    game_stderrs: Homebrew standard error function for graphing.\n",
    "    -- Returns x, y, and yerr for data at each index in indices.\n",
    "    \"\"\"\n",
    "    \n",
    "    # A better solution here would be to compute backwards, so sums are only computed once.\n",
    "    stepwise_x = [i for i in indices]\n",
    "    stepwise_y = [probs[i] for i in indices]\n",
    "    \n",
    "    stepwise_yerr = []\n",
    "    indices = [i for i in indices if i != 0]\n",
    "    \n",
    "    for i in indices:\n",
    "        stepwise_yerr.append(1.95 * np.sqrt(sum([(x - probs[i])**2 for x in runs[:i]]) / (i + i**2)))\n",
    "    \n",
    "    return stepwise_x, stepwise_y, stepwise_yerr\n",
    "\n",
    "# N.B. One can also use the obviously more efficient scipy.stats functions.\n"
   ]
  },
  {
   "cell_type": "markdown",
   "metadata": {},
   "source": [
    "<b>IV.b: Perform Point Statistics.</b>\n",
    "\n",
    "Compute and store running statistical information for graphing.  Here we compute the error by using a normal estimator for the error.  For larger runs, this will be an increasingly reliable estimator."
   ]
  },
  {
   "cell_type": "code",
   "execution_count": 14,
   "metadata": {},
   "outputs": [
    {
     "name": "stdout",
     "output_type": "stream",
     "text": [
      "Doing the statistics took 0.3635 seconds.\n",
      "Monte Carlo probability estimator: 0.3985.\n"
     ]
    }
   ],
   "source": [
    "t_begin = time()\n",
    "probs = game_probs(runs)\n",
    "t_end = time()\n",
    "\n",
    "print(f\"Doing the statistics took {(t_end - t_begin):.4f} seconds.\")\n",
    "print(f\"Monte Carlo probability estimator: {probs[-1]}.\")"
   ]
  },
  {
   "cell_type": "markdown",
   "metadata": {},
   "source": [
    "<b>IV.c: Plot the Running Probability as a Function of Runs</b>"
   ]
  },
  {
   "cell_type": "code",
   "execution_count": 15,
   "metadata": {},
   "outputs": [
    {
     "data": {
      "image/png": "[encoded data removed]",
      "text/plain": [
       "<matplotlib.figure.Figure at 0x7f5429ab4ac8>"
      ]
     },
     "metadata": {},
     "output_type": "display_data"
    }
   ],
   "source": [
    "import matplotlib.pyplot as plt\n",
    "import seaborn as sb\n",
    "sb.set(style=\"whitegrid\")\n",
    "\n",
    "x_offset = 10**2\n",
    "\n",
    "# Collate data for exact result\n",
    "x_runs = np.arange(NUM_RUNS)\n",
    "true_probs = [analytic_prob for _ in range(NUM_RUNS)]\n",
    "\n",
    "# Collate and automate error bars\n",
    "num_errbars = 20\n",
    "delta = NUM_RUNS // num_errbars\n",
    "errbar_ind = [i for i in range(len(x_runs)) if i % delta == 0 and i >= x_offset]\n",
    "x_errbar, y_errbar, y_err = game_stats(runs, probs, errbar_ind)\n",
    "\n",
    "# Plot the data\n",
    "plt.figure(figsize=(8,6))\n",
    "plt.plot(x_runs[x_offset:], probs[x_offset:], label='MC Probability of Good Hand', color=\"b\")\n",
    "plt.errorbar(x_errbar, y_errbar, yerr=y_err, color=\"g\", label=\"Normal Estimator Error Bars at 95% Confidence\")\n",
    "plt.plot(x_runs[x_offset:], true_probs[x_offset:], label='Multi-Hypergeometric Prob. of Good Hand', color=\"m\")\n",
    "plt.xlabel('Number of Runs')\n",
    "plt.ylabel('Running Probability')\n",
    "plt.title(GRAPH_TITLE)\n",
    "plt.legend()\n",
    "plt.show()\n"
   ]
  },
  {
   "cell_type": "markdown",
   "metadata": {},
   "source": [
    "<b>A concluding note on efficiency:</b> For the case of drawing a Jack (total of 4 Jacks in the deck) out of a standard 52 card deck within an opening hand size of 6 cards is 0.397229661095  (correct up to 12 digits).  This current method on a 4th gen core i5 processor completes 5 million runs in 96 s; cf. to an older method that ran for 529 s over 5 million runs and gives 0.396176, this is a ~5.29x optimization by only drawing the cards needed from the hand rather than the whole deck, using optimized objects (e.g. Counter) from the Pythong standard library, and cleaning up the code base.  That being said, if one is deeply concerned about efficiency, the fastest code possible will be re-writing this in either C/C++ or Cython, and importing it Python side.  Still, it's nice to show how to do basic MC statistics totally inside of Python."
   ]
  }
 ],
 "metadata": {
  "kernelspec": {
   "display_name": "Python 3",
   "language": "python",
   "name": "python3"
  },
  "language_info": {
   "codemirror_mode": {
    "name": "ipython",
    "version": 3
   },
   "file_extension": ".py",
   "mimetype": "text/x-python",
   "name": "python",
   "nbconvert_exporter": "python",
   "pygments_lexer": "ipython3",
   "version": "3.6.3"
  }
 },
 "nbformat": 4,
 "nbformat_minor": 2
}
